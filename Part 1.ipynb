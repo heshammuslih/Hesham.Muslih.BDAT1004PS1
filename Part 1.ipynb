{
 "cells": [
  {
   "cell_type": "markdown",
   "metadata": {},
   "source": [
    "# Question1 \n",
    "What data type is each of the following? <br>\n",
    "5           = Integer<br>\n",
    "5.0         = Double<br>\n",
    "5 > 1       = Boolean<br>\n",
    "'5'         = Char<br>\n",
    "5 * 2       = Integer<br>\n",
    "'5' * 2     = String<br>\n",
    "'5' + '2'   = String<br>\n",
    "5 / 2       = Integer<br>\n",
    "5 // 2      = Integer<br>\n",
    "[5, 2, 1]   = Array<br>\n",
    "5 in [1, 4, 6] = Boolean<br>\n",
    "Pi (the number) = Double"
   ]
  },
  {
   "cell_type": "markdown",
   "metadata": {},
   "source": [
    "# Question 2 C#\n",
    "Write (and evaluate) C# expressions that answer these questions: <br>\n",
    "a. How many letters are there in 'Supercalifragilisticexpialidocious'? <br>\n",
    "b. Does 'Supercalifragilisticexpialidocious' contain 'ice' as a substring? <br>\n",
    "c. Which of the following words is the longest:<br>\n",
    "Supercalifragilisticexpialidocious, Honorificabilitudinitatibus, or\n",
    "Bababadalgharaghtakamminarronnkonn?<br>\n",
    "d. Which composer comes first in the dictionary: 'Berlioz', 'Borodin', 'Brian',\n",
    "'Bartok', 'Bellini', 'Buxtehude', 'Bernstein'. Which one comes last?"
   ]
  },
  {
   "cell_type": "code",
   "execution_count": 1,
   "metadata": {
    "scrolled": true
   },
   "outputs": [
    {
     "name": "stdout",
     "output_type": "stream",
     "text": [
      "34\n",
      "True\n",
      "Supercalifragilisticexpialidocious\n",
      "1 Berlioz\n",
      "2 Borodin\n",
      "3 Brian\n",
      "4 Bartok\n",
      "5 Bellini\n",
      "6 Buxtehude\n",
      "7 Bernstein\n"
     ]
    }
   ],
   "source": [
    "//a. How many letters are there in 'Supercalifragilisticexpialidocious'? = 34\n",
    "var x = \"Supercalifragilisticexpialidocious\";\n",
    "Console.WriteLine(x.Length);\n",
    "//b. Does 'Supercalifragilisticexpialidocious' contain 'ice' as a substring? = True\n",
    "Console.WriteLine(x.Contains(\"ice\"));\n",
    "//c. Which of the following words is the longest:\n",
    "//Supercalifragilisticexpialidocious, Honorificabilitudinitatibus, or Bababadalgharaghtakamminarronnkonn?\n",
    "String[] a = { \"Supercalifragilisticexpialidocious\", \"Honorificabilitudinitatibus\", \"Bababadalgharaghtakamminarronnkonn\" };\n",
    "String longestWord = string.Empty;\n",
    "foreach (string w in a)\n",
    "    if (string.IsNullOrEmpty(longestWord))\n",
    "        longestWord = w;\n",
    "    else if (longestWord.Length < w.Length)\n",
    "        longestWord = w;\n",
    "//In fact we have two words with same length = 34; the first one in the list and the last one. \n",
    "Console.WriteLine(longestWord);\n",
    "\n",
    "//d. Which composer comes first in the dictionary: 'Berlioz', 'Borodin', 'Brian',\n",
    "//'Bartok', 'Bellini', 'Buxtehude', 'Bernstein'. Which one comes last?\n",
    "Dictionary<string, string> composers = new Dictionary<string, string>();\n",
    "composers.Add(\"1\", \"Berlioz\");\n",
    "composers.Add(\"2\", \"Borodin\");\n",
    "composers.Add(\"3\", \"Brian\");\n",
    "composers.Add(\"4\", \"Bartok\");\n",
    "composers.Add(\"5\", \"Bellini\");\n",
    "composers.Add(\"6\", \"Buxtehude\");\n",
    "composers.Add(\"7\", \"Bernstein\");\n",
    "foreach (KeyValuePair<string, string> kv in composers)\n",
    "{\n",
    "    Console.WriteLine(kv.Key + \" \" + kv.Value);\n",
    "}\n",
    "//As we can see from the output the first composer is Berlioz and the last one is Bernstein"
   ]
  },
  {
   "cell_type": "markdown",
   "metadata": {},
   "source": [
    "# Question 3 C#\n",
    "Implement function triangleArea(a,b,c) that takes as input the lengths of the 3<br>\n",
    "sides of a triangle and returns the area of the triangle. By Heron's formula, the area<br>\n",
    "of a triangle with side lengths a, b, and c is<br>\n",
    "s(s - a)(s -b)(s -c)<br>\n",
    ", where<br>\n"
   ]
  },
  {
   "cell_type": "code",
   "execution_count": 2,
   "metadata": {},
   "outputs": [
    {
     "name": "stdout",
     "output_type": "stream",
     "text": [
      "triangle area is 1.7320508075688772\r\n"
     ]
    }
   ],
   "source": [
    "public class AreaClass\n",
    "{\n",
    "    public double TriangleArea(double a, double b, double c) \n",
    "    {\n",
    "        double s = (a + b + c) / 2;\n",
    "        double area = Math.Sqrt(s * (s - a) * (s - b) * (s - c));\n",
    "        return area;\n",
    "    }\n",
    "}\n",
    "//Enter triangle sides\n",
    "//I do it this way because Console.Readline() is not compatible with jupyter.\n",
    "double a = 2;\n",
    "double b = 2;\n",
    "double c = 2;\n",
    "AreaClass cls = new AreaClass();\n",
    "Console.WriteLine(\"triangle area is {0}\", cls.TriangleArea(a, b, c));"
   ]
  },
  {
   "cell_type": "markdown",
   "metadata": {},
   "source": [
    "# Question 4 C#\n",
    "Write a program in C# Sharp to separate odd and even integers in separate arrays.<br>\n"
   ]
  },
  {
   "cell_type": "code",
   "execution_count": 4,
   "metadata": {},
   "outputs": [
    {
     "name": "stdout",
     "output_type": "stream",
     "text": [
      "The Even elements are:\n",
      "42 56 32 \n",
      "The Odd elements are:\n",
      "25 47 "
     ]
    }
   ],
   "source": [
    "int[] arr = { 25, 47, 42, 56, 32 };\n",
    "            Console.WriteLine(\"The Even elements are:\");\n",
    "            foreach (int i in arr)\n",
    "                if (i % 2 == 0)\n",
    "                    Console.Write(i.ToString() + \" \");\n",
    "            Console.WriteLine(\"\\nThe Odd elements are:\");\n",
    "            foreach (int i in arr)\n",
    "                if (i % 2 > 0)\n",
    "                    Console.Write(i.ToString() + \" \");"
   ]
  },
  {
   "cell_type": "markdown",
   "metadata": {},
   "source": [
    "# Question 5 C#\n",
    "a. Write a function inside(x,y,x1,y1,x2,y2) that returns True or False<br>\n",
    "depending on whether the point (x,y) lies in the rectangle with lower left<br>\n",
    "corner (x1,y1) and upper right corner (x2,y2)."
   ]
  },
  {
   "cell_type": "code",
   "execution_count": 21,
   "metadata": {},
   "outputs": [
    {
     "name": "stdout",
     "output_type": "stream",
     "text": [
      "True\n",
      "False\n",
      "False\n"
     ]
    }
   ],
   "source": [
    "public Boolean Inside(double x, double y, double x1, double y1, double x2, double y2)\n",
    "{\n",
    "    return (x >= x1 && x <= x2 && y >= y1 && y <= y2);\n",
    "}\n",
    "//Part a.\n",
    "Console.WriteLine(Inside(1,1,0,0,2,3));\n",
    "Console.WriteLine(Inside(-1,-1,0,0,2,3));\n",
    "\n",
    "//Part b.\n",
    "Console.WriteLine(Inside(1,1,0.3,0.5,1.1,0.7) & Inside(1,1,0.5,0.2,1.1,2));"
   ]
  }
 ],
 "metadata": {
  "kernelspec": {
   "display_name": ".NET (C#)",
   "language": "C#",
   "name": ".net-csharp"
  },
  "language_info": {
   "file_extension": ".cs",
   "mimetype": "text/x-csharp",
   "name": "C#",
   "pygments_lexer": "csharp",
   "version": "8.0"
  }
 },
 "nbformat": 4,
 "nbformat_minor": 4
}
