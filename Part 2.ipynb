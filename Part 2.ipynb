{
 "cells": [
  {
   "cell_type": "markdown",
   "metadata": {},
   "source": [
    "# Question 6 Python\n",
    "16. You can turn a word into pig-Latin using the following two rules (simplified):<br>\n",
    "• If the word starts with a consonant, move that letter to the end and append 'ay'.<br> \n",
    "For example, 'happy' becomes 'appyhay' and 'pencil' becomes 'encilpay'.<br>\n",
    "• If the word starts with a vowel, simply append 'way' to the end of the word.<br>\n",
    "For example, 'enter' becomes 'enterway' and 'other' becomes 'otherway' . For<br>\n",
    "our purposes, there are 5 vowels: a, e, i, o, u (so we count y as a consonant).<br>\n",
    "Write a function pig() that takes a word (i.e., a string) as input and returns its pigLatin form. Your function should still work if the input word contains upper case\n",
    "characters. Your output should always be lower case however. "
   ]
  },
  {
   "cell_type": "code",
   "execution_count": 2,
   "metadata": {},
   "outputs": [
    {
     "name": "stdout",
     "output_type": "stream",
     "text": [
      "appleway\n",
      "earyay\n",
      "pencil\n",
      "happy\n"
     ]
    }
   ],
   "source": [
    "def pig(word):\n",
    "    word = word.lower()\n",
    "    vowel = 'aeiou'\n",
    "    consonant = 'y'\n",
    "    if len(word) > 0:\n",
    "        if word[0] in vowel:\n",
    "            return(word + 'way')\n",
    "        else:\n",
    "            if word[0] in consonant:\n",
    "                return(word[1:] + word[0] + 'ay')\n",
    "    return word\n",
    "#Word starts with vowel\n",
    "print(pig('Apple'))\n",
    "#Word starts with consonant (y)\n",
    "print(pig('year'))\n",
    "#Word starts with non-vowel and non-consonant\n",
    "print(pig('pencil'))\n",
    "print(pig('happy'))"
   ]
  },
  {
   "cell_type": "markdown",
   "metadata": {},
   "source": [
    "# Question 7 Python\n",
    "File bloodtype1.txt records blood-types of patients (A, B, AB, O or OO) at a clinic.<br>\n",
    "Write a function bldcount() that reads the file with name name and reports (i.e.,<br>\n",
    "prints) how many patients there are in each bloodtype.<br>\n",
    ">bldcount('bloodtype.txt')<br>\n",
    "There are 10 patients of blood type A.<br>\n",
    "There is one patient of blood type B.<br>\n",
    "There are 10 patients of blood type AB.<br>\n",
    "There are 12 patients of blood type O.<br>\n",
    "There are no patients of blood type OO.<br>"
   ]
  },
  {
   "cell_type": "code",
   "execution_count": 9,
   "metadata": {
    "scrolled": true
   },
   "outputs": [
    {
     "name": "stdout",
     "output_type": "stream",
     "text": [
      "There are 15 patients of blood type A.\n",
      "There is one patient of blood type B.\n",
      "There are 13 patients of blood type AB.\n",
      "There are 15 patients of blood type O.\n",
      "#use the built in function count#\n",
      "There are 15 patients of blood type A.\n",
      "There is one patient of blood type B.\n",
      "There are 13 patients of blood type AB.\n",
      "There are 15 patients of blood type O.\n"
     ]
    }
   ],
   "source": [
    "def bldcount(fileName):\n",
    "    readfile = open(fileName)\n",
    "    content = readfile.read().upper()\n",
    "    readfile.close()\n",
    "    return content\n",
    "\n",
    "def printBloodCount(bloodType, bloodCount):\n",
    "    if bloodCount > 0:\n",
    "        if bloodCount == 1:\n",
    "            print('There is one patient of blood type ' + bloodType + '.')\n",
    "        else:\n",
    "            print('There are ' + str(bloodCount) + ' patients of blood type ' + bloodType + '.')\n",
    "    \n",
    "bloodTypes = bldcount('bloodtype.txt').split()\n",
    "\n",
    "aCount = 0\n",
    "bCount = 0\n",
    "abCount = 0\n",
    "oCount = 0\n",
    "ooCount = 0\n",
    "for bloodType in bloodTypes:\n",
    "    if bloodType == 'A':\n",
    "        aCount += 1\n",
    "    else: \n",
    "        if bloodType == 'B':\n",
    "            bCount += 1\n",
    "        else:\n",
    "            if bloodType == 'AB':\n",
    "                abCount += 1\n",
    "            else:\n",
    "                if bloodType == 'O':\n",
    "                    oCount += 1\n",
    "                else:\n",
    "                    if bloodType == 'OO':\n",
    "                        ooCount += 1\n",
    "        \n",
    "printBloodCount('A',aCount)\n",
    "printBloodCount('B',bCount)\n",
    "printBloodCount('AB',abCount)\n",
    "printBloodCount('O',oCount)\n",
    "printBloodCount('OO',ooCount)\n",
    "\n",
    "#Or we can use the built in function count\n",
    "print('#use the built in function count#')\n",
    "printBloodCount('A',bloodTypes.count('A'))\n",
    "printBloodCount('B',bloodTypes.count('B'))\n",
    "printBloodCount('AB',bloodTypes.count('AB'))\n",
    "printBloodCount('O',bloodTypes.count('O'))\n",
    "printBloodCount('OO',bloodTypes.count('OO'))\n",
    "\n"
   ]
  },
  {
   "cell_type": "code",
   "execution_count": null,
   "metadata": {},
   "outputs": [],
   "source": []
  },
  {
   "cell_type": "markdown",
   "metadata": {},
   "source": [
    "# Question 8 Python\n",
    "Write a function curconv() that takes as input:<br>\n",
    "1- a currency represented using a string (e.g., 'JPY' for the Japanese Yen or 'EUR' for the Euro)<br>\n",
    "2- an amount<br>\n",
    "and then converts and returns the amount in US dollars.<br>\n",
    "curconv('EUR', 100)<br>\n",
    "122.96544<br>\n",
    "curconv('JPY', 100)<br>\n",
    "1.241401<br>\n",
    "The currency rates you will need are stored in file currencies.txt"
   ]
  },
  {
   "cell_type": "code",
   "execution_count": 65,
   "metadata": {},
   "outputs": [
    {
     "name": "stdout",
     "output_type": "stream",
     "text": [
      "122.96544\n",
      "1.241401\n",
      "Please make sure to send a valid currency code that exits in currencies file\n"
     ]
    }
   ],
   "source": [
    "def curconv(currencyCode, amount):\n",
    "    readfile = open('currencies.txt')\n",
    "    currencyLines = readfile.readlines()\n",
    "    readfile.close()\n",
    "    validCurrency = 0;\n",
    "    for currencyLine in currencyLines:\n",
    "        currencyInfoList = currencyLine.split()\n",
    "        if currencyInfoList[0].upper() == currencyCode.upper():\n",
    "            print(amount * float(currencyInfoList[1]))\n",
    "            validCurrency = 1\n",
    "            break\n",
    "    if validCurrency == 0:\n",
    "        print('Please make sure to send a valid currency code that exits in currencies file')\n",
    "    \n",
    "curconv('EUR',100)\n",
    "curconv('JPY',100)\n",
    "curconv('JOR',100)"
   ]
  },
  {
   "cell_type": "markdown",
   "metadata": {},
   "source": [
    "# Question 9 Python\n",
    "Each of the following will cause an exception (an error). Identify what type of<br>\n",
    "exception each will cause.<br>\n",
    "1-Trying to add incompatible variables, as in<br>\n",
    "adding 6 + ‘a’<br>\n",
    "2-Referring to the 12th item of a list that has only 10<br>\n",
    "items<br>\n",
    "3-Using a value that is out of range for a function’s<br>\n",
    "input, such as calling math.sqrt(-1.0)<br>\n",
    "4-Using an undeclared variable, such as print(x)<br>\n",
    "when x has not been defined<br>\n",
    "5-Trying to open a file that does not exist, such as<br>\n",
    "mistyping the file name or looking in the wrong<br>\n",
    "directory. <br>\n"
   ]
  },
  {
   "cell_type": "markdown",
   "metadata": {},
   "source": [
    "My Answers for question 9:<br>\n",
    "1. SyntaxError: invalid character in identifier\n",
    "2. IndexError: list index out of range\n",
    "3. ValueError: math domain error\n",
    "4. NameError: name 'x' is not defined\n",
    "5. FileNotFoundError: [Errno 2] No such file or directory: 'xxx.txt'"
   ]
  },
  {
   "cell_type": "markdown",
   "metadata": {},
   "source": [
    "# Question 10 Python\n",
    "Encryption is the process of hiding the meaning of a text by substituting letters in the\n",
    "message with other letters, according to some system. If the process is successful, no\n",
    "one but the intended recipient can understand the encrypted message. Cryptanalysis\n",
    "refers to attempts to undo the encryption, even if some details of the encryption are\n",
    "unknown (for example, if an encrypted message has been intercepted). The first step\n",
    "of cryptanalysis is often to build up a table of letter frequencies in the encrypted text.\n",
    "Assume that the string letters is already defined as\n",
    "'abcdefghijklmnopqrstuvwxyz'. Write a function called frequencies()\n",
    "that takes a string as its only parameter, and returns a list of integers, showing the\n",
    "number of times each character appears in the text. Your function may ignore any\n",
    "characters that are not in letters.<br>\n",
    ">>> frequencies('The quick red fox got bored and went home.')\n",
    "[1, 1, 1, 3, 5, 1, 1, 2, 1, 0, 1, 0, 1, 2, 4, 0, 1, 2, 0, 2,\n",
    "1, 0, 1, 1, 0, 0]\n",
    ">>> frequencies('apple')"
   ]
  },
  {
   "cell_type": "code",
   "execution_count": 83,
   "metadata": {},
   "outputs": [
    {
     "name": "stdout",
     "output_type": "stream",
     "text": [
      "[1, 1, 1, 3, 5, 1, 1, 2, 1, 0, 1, 0, 1, 2, 4, 0, 1, 2, 0, 3, 1, 0, 1, 1, 0, 0]\n",
      "[1, 0, 0, 0, 1, 0, 0, 0, 0, 0, 0, 1, 0, 0, 0, 2, 0, 0, 0, 0, 0, 0, 0, 0, 0, 0]\n"
     ]
    }
   ],
   "source": [
    "def frequencies(message):\n",
    "    message = message.lower()\n",
    "    litters = 'abcdefghijklmnopqrstuvwxyz'\n",
    "    lst = []\n",
    "    for litter in litters:\n",
    "        lst.append(message.count(litter))\n",
    "    print(lst)\n",
    "\n",
    "frequencies('The quick red fox got bored and went home.') \n",
    "frequencies('Apple.')"
   ]
  }
 ],
 "metadata": {
  "kernelspec": {
   "display_name": "Python 3",
   "language": "python",
   "name": "python3"
  },
  "language_info": {
   "codemirror_mode": {
    "name": "ipython",
    "version": 3
   },
   "file_extension": ".py",
   "mimetype": "text/x-python",
   "name": "python",
   "nbconvert_exporter": "python",
   "pygments_lexer": "ipython3",
   "version": "3.8.5"
  }
 },
 "nbformat": 4,
 "nbformat_minor": 4
}
